{
 "cells": [
  {
   "cell_type": "code",
   "execution_count": 1,
   "id": "38752b3b",
   "metadata": {},
   "outputs": [],
   "source": [
    "# Open the input file\n",
    "with open('lexicon.txt', 'r') as f:\n",
    "    # Read all lines from the file\n",
    "    lines = f.readlines()\n",
    "\n",
    "# Filter out the empty lines\n",
    "non_empty_lines = [line.strip() for line in lines if line.strip()]\n",
    "\n",
    "# Write the non-empty lines to a new file\n",
    "with open('lexicon_clean.txt', 'w') as f:\n",
    "    f.write('\\n'.join(non_empty_lines))"
   ]
  },
  {
   "cell_type": "code",
   "execution_count": null,
   "id": "e8193292",
   "metadata": {},
   "outputs": [],
   "source": []
  }
 ],
 "metadata": {
  "kernelspec": {
   "display_name": "Python 3 (ipykernel)",
   "language": "python",
   "name": "python3"
  },
  "language_info": {
   "codemirror_mode": {
    "name": "ipython",
    "version": 3
   },
   "file_extension": ".py",
   "mimetype": "text/x-python",
   "name": "python",
   "nbconvert_exporter": "python",
   "pygments_lexer": "ipython3",
   "version": "3.9.13"
  }
 },
 "nbformat": 4,
 "nbformat_minor": 5
}
