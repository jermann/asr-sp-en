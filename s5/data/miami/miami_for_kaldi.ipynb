{
 "cells": [
  {
   "cell_type": "code",
   "execution_count": 1,
   "id": "4b417092",
   "metadata": {},
   "outputs": [],
   "source": [
    "import pandas as pd"
   ]
  },
  {
   "cell_type": "code",
   "execution_count": 2,
   "id": "e90175a1",
   "metadata": {},
   "outputs": [],
   "source": [
    "df = pd.read_csv(\"/Users/alexander/git/ml-code-switched-speech-translation/miami/miami_mapping.csv\")"
   ]
  },
  {
   "cell_type": "code",
   "execution_count": 3,
   "id": "c7defed6",
   "metadata": {},
   "outputs": [
    {
     "data": {
      "text/html": [
       "<div>\n",
       "<style scoped>\n",
       "    .dataframe tbody tr th:only-of-type {\n",
       "        vertical-align: middle;\n",
       "    }\n",
       "\n",
       "    .dataframe tbody tr th {\n",
       "        vertical-align: top;\n",
       "    }\n",
       "\n",
       "    .dataframe thead th {\n",
       "        text-align: right;\n",
       "    }\n",
       "</style>\n",
       "<table border=\"1\" class=\"dataframe\">\n",
       "  <thead>\n",
       "    <tr style=\"text-align: right;\">\n",
       "      <th></th>\n",
       "      <th>global_idx</th>\n",
       "      <th>split</th>\n",
       "      <th>file</th>\n",
       "      <th>file_line_num</th>\n",
       "      <th>offset</th>\n",
       "      <th>duration</th>\n",
       "      <th>cs_type</th>\n",
       "    </tr>\n",
       "  </thead>\n",
       "  <tbody>\n",
       "    <tr>\n",
       "      <th>0</th>\n",
       "      <td>0</td>\n",
       "      <td>test</td>\n",
       "      <td>maria1</td>\n",
       "      <td>0</td>\n",
       "      <td>0.714</td>\n",
       "      <td>2.554</td>\n",
       "      <td>cs</td>\n",
       "    </tr>\n",
       "    <tr>\n",
       "      <th>1</th>\n",
       "      <td>1</td>\n",
       "      <td>NaN</td>\n",
       "      <td>maria1</td>\n",
       "      <td>1</td>\n",
       "      <td>3.262</td>\n",
       "      <td>1.109</td>\n",
       "      <td>NaN</td>\n",
       "    </tr>\n",
       "    <tr>\n",
       "      <th>2</th>\n",
       "      <td>2</td>\n",
       "      <td>NaN</td>\n",
       "      <td>maria1</td>\n",
       "      <td>2</td>\n",
       "      <td>4.859</td>\n",
       "      <td>3.310</td>\n",
       "      <td>NaN</td>\n",
       "    </tr>\n",
       "    <tr>\n",
       "      <th>3</th>\n",
       "      <td>3</td>\n",
       "      <td>NaN</td>\n",
       "      <td>maria1</td>\n",
       "      <td>3</td>\n",
       "      <td>8.719</td>\n",
       "      <td>2.903</td>\n",
       "      <td>NaN</td>\n",
       "    </tr>\n",
       "    <tr>\n",
       "      <th>4</th>\n",
       "      <td>4</td>\n",
       "      <td>test</td>\n",
       "      <td>maria1</td>\n",
       "      <td>5</td>\n",
       "      <td>12.304</td>\n",
       "      <td>2.163</td>\n",
       "      <td>mono</td>\n",
       "    </tr>\n",
       "    <tr>\n",
       "      <th>...</th>\n",
       "      <td>...</td>\n",
       "      <td>...</td>\n",
       "      <td>...</td>\n",
       "      <td>...</td>\n",
       "      <td>...</td>\n",
       "      <td>...</td>\n",
       "      <td>...</td>\n",
       "    </tr>\n",
       "    <tr>\n",
       "      <th>45644</th>\n",
       "      <td>45644</td>\n",
       "      <td>test</td>\n",
       "      <td>zeledon8</td>\n",
       "      <td>1420</td>\n",
       "      <td>2261.085</td>\n",
       "      <td>0.430</td>\n",
       "      <td>mono</td>\n",
       "    </tr>\n",
       "    <tr>\n",
       "      <th>45645</th>\n",
       "      <td>45645</td>\n",
       "      <td>NaN</td>\n",
       "      <td>zeledon8</td>\n",
       "      <td>1421</td>\n",
       "      <td>2261.515</td>\n",
       "      <td>5.257</td>\n",
       "      <td>NaN</td>\n",
       "    </tr>\n",
       "    <tr>\n",
       "      <th>45646</th>\n",
       "      <td>45646</td>\n",
       "      <td>NaN</td>\n",
       "      <td>zeledon8</td>\n",
       "      <td>1422</td>\n",
       "      <td>2265.198</td>\n",
       "      <td>4.929</td>\n",
       "      <td>NaN</td>\n",
       "    </tr>\n",
       "    <tr>\n",
       "      <th>45647</th>\n",
       "      <td>45647</td>\n",
       "      <td>NaN</td>\n",
       "      <td>zeledon8</td>\n",
       "      <td>1423</td>\n",
       "      <td>2268.252</td>\n",
       "      <td>3.873</td>\n",
       "      <td>NaN</td>\n",
       "    </tr>\n",
       "    <tr>\n",
       "      <th>45648</th>\n",
       "      <td>45648</td>\n",
       "      <td>test</td>\n",
       "      <td>zeledon8</td>\n",
       "      <td>1424</td>\n",
       "      <td>2270.191</td>\n",
       "      <td>2.729</td>\n",
       "      <td>cs</td>\n",
       "    </tr>\n",
       "  </tbody>\n",
       "</table>\n",
       "<p>45649 rows × 7 columns</p>\n",
       "</div>"
      ],
      "text/plain": [
       "       global_idx split      file  file_line_num    offset  duration cs_type\n",
       "0               0  test    maria1              0     0.714     2.554      cs\n",
       "1               1   NaN    maria1              1     3.262     1.109     NaN\n",
       "2               2   NaN    maria1              2     4.859     3.310     NaN\n",
       "3               3   NaN    maria1              3     8.719     2.903     NaN\n",
       "4               4  test    maria1              5    12.304     2.163    mono\n",
       "...           ...   ...       ...            ...       ...       ...     ...\n",
       "45644       45644  test  zeledon8           1420  2261.085     0.430    mono\n",
       "45645       45645   NaN  zeledon8           1421  2261.515     5.257     NaN\n",
       "45646       45646   NaN  zeledon8           1422  2265.198     4.929     NaN\n",
       "45647       45647   NaN  zeledon8           1423  2268.252     3.873     NaN\n",
       "45648       45648  test  zeledon8           1424  2270.191     2.729      cs\n",
       "\n",
       "[45649 rows x 7 columns]"
      ]
     },
     "execution_count": 3,
     "metadata": {},
     "output_type": "execute_result"
    }
   ],
   "source": [
    "df"
   ]
  },
  {
   "cell_type": "code",
   "execution_count": 4,
   "id": "bb1a640b",
   "metadata": {},
   "outputs": [
    {
     "data": {
      "text/html": [
       "<div>\n",
       "<style scoped>\n",
       "    .dataframe tbody tr th:only-of-type {\n",
       "        vertical-align: middle;\n",
       "    }\n",
       "\n",
       "    .dataframe tbody tr th {\n",
       "        vertical-align: top;\n",
       "    }\n",
       "\n",
       "    .dataframe thead th {\n",
       "        text-align: right;\n",
       "    }\n",
       "</style>\n",
       "<table border=\"1\" class=\"dataframe\">\n",
       "  <thead>\n",
       "    <tr style=\"text-align: right;\">\n",
       "      <th></th>\n",
       "      <th>global_idx</th>\n",
       "      <th>split</th>\n",
       "      <th>file</th>\n",
       "      <th>file_line_num</th>\n",
       "      <th>offset</th>\n",
       "      <th>duration</th>\n",
       "      <th>cs_type</th>\n",
       "    </tr>\n",
       "  </thead>\n",
       "  <tbody>\n",
       "  </tbody>\n",
       "</table>\n",
       "</div>"
      ],
      "text/plain": [
       "Empty DataFrame\n",
       "Columns: [global_idx, split, file, file_line_num, offset, duration, cs_type]\n",
       "Index: []"
      ]
     },
     "execution_count": 4,
     "metadata": {},
     "output_type": "execute_result"
    }
   ],
   "source": [
    "df[(df['file'] == 'maria31') & (df['file_line_num'] == '847')]"
   ]
  },
  {
   "cell_type": "code",
   "execution_count": 5,
   "id": "ab0e432c",
   "metadata": {},
   "outputs": [
    {
     "data": {
      "text/html": [
       "<div>\n",
       "<style scoped>\n",
       "    .dataframe tbody tr th:only-of-type {\n",
       "        vertical-align: middle;\n",
       "    }\n",
       "\n",
       "    .dataframe tbody tr th {\n",
       "        vertical-align: top;\n",
       "    }\n",
       "\n",
       "    .dataframe thead th {\n",
       "        text-align: right;\n",
       "    }\n",
       "</style>\n",
       "<table border=\"1\" class=\"dataframe\">\n",
       "  <thead>\n",
       "    <tr style=\"text-align: right;\">\n",
       "      <th></th>\n",
       "      <th>global_idx</th>\n",
       "      <th>split</th>\n",
       "      <th>file</th>\n",
       "      <th>file_line_num</th>\n",
       "      <th>offset</th>\n",
       "      <th>duration</th>\n",
       "      <th>cs_type</th>\n",
       "    </tr>\n",
       "  </thead>\n",
       "  <tbody>\n",
       "    <tr>\n",
       "      <th>31893</th>\n",
       "      <td>31893</td>\n",
       "      <td>NaN</td>\n",
       "      <td>maria31</td>\n",
       "      <td>847</td>\n",
       "      <td>6315.61</td>\n",
       "      <td>0.836</td>\n",
       "      <td>NaN</td>\n",
       "    </tr>\n",
       "  </tbody>\n",
       "</table>\n",
       "</div>"
      ],
      "text/plain": [
       "       global_idx split     file  file_line_num   offset  duration cs_type\n",
       "31893       31893   NaN  maria31            847  6315.61     0.836     NaN"
      ]
     },
     "execution_count": 5,
     "metadata": {},
     "output_type": "execute_result"
    }
   ],
   "source": [
    "df[(df['file'] == 'maria31') & (df['file_line_num'] == 847)]"
   ]
  },
  {
   "cell_type": "code",
   "execution_count": 6,
   "id": "ce412d36",
   "metadata": {},
   "outputs": [
    {
     "data": {
      "text/html": [
       "<div>\n",
       "<style scoped>\n",
       "    .dataframe tbody tr th:only-of-type {\n",
       "        vertical-align: middle;\n",
       "    }\n",
       "\n",
       "    .dataframe tbody tr th {\n",
       "        vertical-align: top;\n",
       "    }\n",
       "\n",
       "    .dataframe thead th {\n",
       "        text-align: right;\n",
       "    }\n",
       "</style>\n",
       "<table border=\"1\" class=\"dataframe\">\n",
       "  <thead>\n",
       "    <tr style=\"text-align: right;\">\n",
       "      <th></th>\n",
       "      <th>global_idx</th>\n",
       "      <th>split</th>\n",
       "      <th>file</th>\n",
       "      <th>file_line_num</th>\n",
       "      <th>offset</th>\n",
       "      <th>duration</th>\n",
       "      <th>cs_type</th>\n",
       "    </tr>\n",
       "  </thead>\n",
       "  <tbody>\n",
       "    <tr>\n",
       "      <th>31894</th>\n",
       "      <td>31894</td>\n",
       "      <td>NaN</td>\n",
       "      <td>maria31</td>\n",
       "      <td>848</td>\n",
       "      <td>6317.364</td>\n",
       "      <td>1.683</td>\n",
       "      <td>NaN</td>\n",
       "    </tr>\n",
       "  </tbody>\n",
       "</table>\n",
       "</div>"
      ],
      "text/plain": [
       "       global_idx split     file  file_line_num    offset  duration cs_type\n",
       "31894       31894   NaN  maria31            848  6317.364     1.683     NaN"
      ]
     },
     "execution_count": 6,
     "metadata": {},
     "output_type": "execute_result"
    }
   ],
   "source": [
    "df[(df['file'] == 'maria31') & (df['file_line_num'] == 848)]"
   ]
  },
  {
   "cell_type": "code",
   "execution_count": 7,
   "id": "7317970e",
   "metadata": {},
   "outputs": [
    {
     "data": {
      "text/html": [
       "<div>\n",
       "<style scoped>\n",
       "    .dataframe tbody tr th:only-of-type {\n",
       "        vertical-align: middle;\n",
       "    }\n",
       "\n",
       "    .dataframe tbody tr th {\n",
       "        vertical-align: top;\n",
       "    }\n",
       "\n",
       "    .dataframe thead th {\n",
       "        text-align: right;\n",
       "    }\n",
       "</style>\n",
       "<table border=\"1\" class=\"dataframe\">\n",
       "  <thead>\n",
       "    <tr style=\"text-align: right;\">\n",
       "      <th></th>\n",
       "      <th>global_idx</th>\n",
       "      <th>split</th>\n",
       "      <th>file</th>\n",
       "      <th>file_line_num</th>\n",
       "      <th>offset</th>\n",
       "      <th>duration</th>\n",
       "      <th>cs_type</th>\n",
       "    </tr>\n",
       "  </thead>\n",
       "  <tbody>\n",
       "  </tbody>\n",
       "</table>\n",
       "</div>"
      ],
      "text/plain": [
       "Empty DataFrame\n",
       "Columns: [global_idx, split, file, file_line_num, offset, duration, cs_type]\n",
       "Index: []"
      ]
     },
     "execution_count": 7,
     "metadata": {},
     "output_type": "execute_result"
    }
   ],
   "source": [
    "df[(df['file'] == 'maria31') & (df['file_line_num'] == 849)]"
   ]
  },
  {
   "cell_type": "markdown",
   "id": "d26359c2",
   "metadata": {},
   "source": [
    "# Utt 2 File Path"
   ]
  },
  {
   "cell_type": "code",
   "execution_count": 14,
   "id": "630df3ff",
   "metadata": {},
   "outputs": [],
   "source": [
    "root_path = '/home/apj2125/kaldi/egs/asr-sp-en/s5/data/miami/'"
   ]
  },
  {
   "cell_type": "code",
   "execution_count": 15,
   "id": "90ec0c57",
   "metadata": {},
   "outputs": [],
   "source": [
    "df['utteranceID'] = df['file'] + '_p' + df['file_line_num'].apply(str)"
   ]
  },
  {
   "cell_type": "code",
   "execution_count": 16,
   "id": "2cb2f1e9",
   "metadata": {},
   "outputs": [
    {
     "data": {
      "text/html": [
       "<div>\n",
       "<style scoped>\n",
       "    .dataframe tbody tr th:only-of-type {\n",
       "        vertical-align: middle;\n",
       "    }\n",
       "\n",
       "    .dataframe tbody tr th {\n",
       "        vertical-align: top;\n",
       "    }\n",
       "\n",
       "    .dataframe thead th {\n",
       "        text-align: right;\n",
       "    }\n",
       "</style>\n",
       "<table border=\"1\" class=\"dataframe\">\n",
       "  <thead>\n",
       "    <tr style=\"text-align: right;\">\n",
       "      <th></th>\n",
       "      <th>global_idx</th>\n",
       "      <th>split</th>\n",
       "      <th>file</th>\n",
       "      <th>file_line_num</th>\n",
       "      <th>offset</th>\n",
       "      <th>duration</th>\n",
       "      <th>cs_type</th>\n",
       "      <th>utteranceID</th>\n",
       "      <th>file_path</th>\n",
       "    </tr>\n",
       "  </thead>\n",
       "  <tbody>\n",
       "    <tr>\n",
       "      <th>0</th>\n",
       "      <td>0</td>\n",
       "      <td>test</td>\n",
       "      <td>maria1</td>\n",
       "      <td>0</td>\n",
       "      <td>0.714</td>\n",
       "      <td>2.554</td>\n",
       "      <td>cs</td>\n",
       "      <td>maria1_p0</td>\n",
       "      <td>/Users/alexander/git/ml-code-switched-speech-t...</td>\n",
       "    </tr>\n",
       "    <tr>\n",
       "      <th>1</th>\n",
       "      <td>1</td>\n",
       "      <td>NaN</td>\n",
       "      <td>maria1</td>\n",
       "      <td>1</td>\n",
       "      <td>3.262</td>\n",
       "      <td>1.109</td>\n",
       "      <td>NaN</td>\n",
       "      <td>maria1_p1</td>\n",
       "      <td>/Users/alexander/git/ml-code-switched-speech-t...</td>\n",
       "    </tr>\n",
       "    <tr>\n",
       "      <th>2</th>\n",
       "      <td>2</td>\n",
       "      <td>NaN</td>\n",
       "      <td>maria1</td>\n",
       "      <td>2</td>\n",
       "      <td>4.859</td>\n",
       "      <td>3.310</td>\n",
       "      <td>NaN</td>\n",
       "      <td>maria1_p2</td>\n",
       "      <td>/Users/alexander/git/ml-code-switched-speech-t...</td>\n",
       "    </tr>\n",
       "    <tr>\n",
       "      <th>3</th>\n",
       "      <td>3</td>\n",
       "      <td>NaN</td>\n",
       "      <td>maria1</td>\n",
       "      <td>3</td>\n",
       "      <td>8.719</td>\n",
       "      <td>2.903</td>\n",
       "      <td>NaN</td>\n",
       "      <td>maria1_p3</td>\n",
       "      <td>/Users/alexander/git/ml-code-switched-speech-t...</td>\n",
       "    </tr>\n",
       "    <tr>\n",
       "      <th>4</th>\n",
       "      <td>4</td>\n",
       "      <td>test</td>\n",
       "      <td>maria1</td>\n",
       "      <td>5</td>\n",
       "      <td>12.304</td>\n",
       "      <td>2.163</td>\n",
       "      <td>mono</td>\n",
       "      <td>maria1_p5</td>\n",
       "      <td>/Users/alexander/git/ml-code-switched-speech-t...</td>\n",
       "    </tr>\n",
       "    <tr>\n",
       "      <th>...</th>\n",
       "      <td>...</td>\n",
       "      <td>...</td>\n",
       "      <td>...</td>\n",
       "      <td>...</td>\n",
       "      <td>...</td>\n",
       "      <td>...</td>\n",
       "      <td>...</td>\n",
       "      <td>...</td>\n",
       "      <td>...</td>\n",
       "    </tr>\n",
       "    <tr>\n",
       "      <th>45644</th>\n",
       "      <td>45644</td>\n",
       "      <td>test</td>\n",
       "      <td>zeledon8</td>\n",
       "      <td>1420</td>\n",
       "      <td>2261.085</td>\n",
       "      <td>0.430</td>\n",
       "      <td>mono</td>\n",
       "      <td>zeledon8_p1420</td>\n",
       "      <td>/Users/alexander/git/ml-code-switched-speech-t...</td>\n",
       "    </tr>\n",
       "    <tr>\n",
       "      <th>45645</th>\n",
       "      <td>45645</td>\n",
       "      <td>NaN</td>\n",
       "      <td>zeledon8</td>\n",
       "      <td>1421</td>\n",
       "      <td>2261.515</td>\n",
       "      <td>5.257</td>\n",
       "      <td>NaN</td>\n",
       "      <td>zeledon8_p1421</td>\n",
       "      <td>/Users/alexander/git/ml-code-switched-speech-t...</td>\n",
       "    </tr>\n",
       "    <tr>\n",
       "      <th>45646</th>\n",
       "      <td>45646</td>\n",
       "      <td>NaN</td>\n",
       "      <td>zeledon8</td>\n",
       "      <td>1422</td>\n",
       "      <td>2265.198</td>\n",
       "      <td>4.929</td>\n",
       "      <td>NaN</td>\n",
       "      <td>zeledon8_p1422</td>\n",
       "      <td>/Users/alexander/git/ml-code-switched-speech-t...</td>\n",
       "    </tr>\n",
       "    <tr>\n",
       "      <th>45647</th>\n",
       "      <td>45647</td>\n",
       "      <td>NaN</td>\n",
       "      <td>zeledon8</td>\n",
       "      <td>1423</td>\n",
       "      <td>2268.252</td>\n",
       "      <td>3.873</td>\n",
       "      <td>NaN</td>\n",
       "      <td>zeledon8_p1423</td>\n",
       "      <td>/Users/alexander/git/ml-code-switched-speech-t...</td>\n",
       "    </tr>\n",
       "    <tr>\n",
       "      <th>45648</th>\n",
       "      <td>45648</td>\n",
       "      <td>test</td>\n",
       "      <td>zeledon8</td>\n",
       "      <td>1424</td>\n",
       "      <td>2270.191</td>\n",
       "      <td>2.729</td>\n",
       "      <td>cs</td>\n",
       "      <td>zeledon8_p1424</td>\n",
       "      <td>/Users/alexander/git/ml-code-switched-speech-t...</td>\n",
       "    </tr>\n",
       "  </tbody>\n",
       "</table>\n",
       "<p>45649 rows × 9 columns</p>\n",
       "</div>"
      ],
      "text/plain": [
       "       global_idx split      file  file_line_num    offset  duration cs_type  \\\n",
       "0               0  test    maria1              0     0.714     2.554      cs   \n",
       "1               1   NaN    maria1              1     3.262     1.109     NaN   \n",
       "2               2   NaN    maria1              2     4.859     3.310     NaN   \n",
       "3               3   NaN    maria1              3     8.719     2.903     NaN   \n",
       "4               4  test    maria1              5    12.304     2.163    mono   \n",
       "...           ...   ...       ...            ...       ...       ...     ...   \n",
       "45644       45644  test  zeledon8           1420  2261.085     0.430    mono   \n",
       "45645       45645   NaN  zeledon8           1421  2261.515     5.257     NaN   \n",
       "45646       45646   NaN  zeledon8           1422  2265.198     4.929     NaN   \n",
       "45647       45647   NaN  zeledon8           1423  2268.252     3.873     NaN   \n",
       "45648       45648  test  zeledon8           1424  2270.191     2.729      cs   \n",
       "\n",
       "          utteranceID                                          file_path  \n",
       "0           maria1_p0  /Users/alexander/git/ml-code-switched-speech-t...  \n",
       "1           maria1_p1  /Users/alexander/git/ml-code-switched-speech-t...  \n",
       "2           maria1_p2  /Users/alexander/git/ml-code-switched-speech-t...  \n",
       "3           maria1_p3  /Users/alexander/git/ml-code-switched-speech-t...  \n",
       "4           maria1_p5  /Users/alexander/git/ml-code-switched-speech-t...  \n",
       "...               ...                                                ...  \n",
       "45644  zeledon8_p1420  /Users/alexander/git/ml-code-switched-speech-t...  \n",
       "45645  zeledon8_p1421  /Users/alexander/git/ml-code-switched-speech-t...  \n",
       "45646  zeledon8_p1422  /Users/alexander/git/ml-code-switched-speech-t...  \n",
       "45647  zeledon8_p1423  /Users/alexander/git/ml-code-switched-speech-t...  \n",
       "45648  zeledon8_p1424  /Users/alexander/git/ml-code-switched-speech-t...  \n",
       "\n",
       "[45649 rows x 9 columns]"
      ]
     },
     "execution_count": 16,
     "metadata": {},
     "output_type": "execute_result"
    }
   ],
   "source": [
    "df"
   ]
  },
  {
   "cell_type": "code",
   "execution_count": 17,
   "id": "cf8c64e7",
   "metadata": {},
   "outputs": [],
   "source": [
    "df['file_path'] = root_path + df['utteranceID'] + '.wav'"
   ]
  },
  {
   "cell_type": "code",
   "execution_count": 18,
   "id": "6d59a2c1",
   "metadata": {},
   "outputs": [
    {
     "data": {
      "text/plain": [
       "0        /home/apj2125/kaldi/egs/asr-sp-en/s5/data/miam...\n",
       "1        /home/apj2125/kaldi/egs/asr-sp-en/s5/data/miam...\n",
       "2        /home/apj2125/kaldi/egs/asr-sp-en/s5/data/miam...\n",
       "3        /home/apj2125/kaldi/egs/asr-sp-en/s5/data/miam...\n",
       "4        /home/apj2125/kaldi/egs/asr-sp-en/s5/data/miam...\n",
       "                               ...                        \n",
       "45644    /home/apj2125/kaldi/egs/asr-sp-en/s5/data/miam...\n",
       "45645    /home/apj2125/kaldi/egs/asr-sp-en/s5/data/miam...\n",
       "45646    /home/apj2125/kaldi/egs/asr-sp-en/s5/data/miam...\n",
       "45647    /home/apj2125/kaldi/egs/asr-sp-en/s5/data/miam...\n",
       "45648    /home/apj2125/kaldi/egs/asr-sp-en/s5/data/miam...\n",
       "Name: file_path, Length: 45649, dtype: object"
      ]
     },
     "execution_count": 18,
     "metadata": {},
     "output_type": "execute_result"
    }
   ],
   "source": [
    "df['file_path']"
   ]
  },
  {
   "cell_type": "code",
   "execution_count": 19,
   "id": "c03e4990",
   "metadata": {},
   "outputs": [],
   "source": [
    "df.to_csv('wav.scp', sep=' ', columns=['utteranceID', 'file_path'], index=False, header=False)"
   ]
  },
  {
   "cell_type": "markdown",
   "id": "5bf3c6d1",
   "metadata": {},
   "source": [
    "# Utt2spk"
   ]
  },
  {
   "cell_type": "code",
   "execution_count": 28,
   "id": "9ce0afe7",
   "metadata": {},
   "outputs": [],
   "source": [
    "df['speakerID'] = df['file'].str.replace('\\d', '', regex=True)"
   ]
  },
  {
   "cell_type": "code",
   "execution_count": 29,
   "id": "5366e240",
   "metadata": {},
   "outputs": [],
   "source": [
    "df['utt2spk'] = df['utteranceID'] + df['speakerID'] "
   ]
  },
  {
   "cell_type": "code",
   "execution_count": 30,
   "id": "05b31395",
   "metadata": {},
   "outputs": [
    {
     "data": {
      "text/html": [
       "<div>\n",
       "<style scoped>\n",
       "    .dataframe tbody tr th:only-of-type {\n",
       "        vertical-align: middle;\n",
       "    }\n",
       "\n",
       "    .dataframe tbody tr th {\n",
       "        vertical-align: top;\n",
       "    }\n",
       "\n",
       "    .dataframe thead th {\n",
       "        text-align: right;\n",
       "    }\n",
       "</style>\n",
       "<table border=\"1\" class=\"dataframe\">\n",
       "  <thead>\n",
       "    <tr style=\"text-align: right;\">\n",
       "      <th></th>\n",
       "      <th>global_idx</th>\n",
       "      <th>split</th>\n",
       "      <th>file</th>\n",
       "      <th>file_line_num</th>\n",
       "      <th>offset</th>\n",
       "      <th>duration</th>\n",
       "      <th>cs_type</th>\n",
       "      <th>utteranceID</th>\n",
       "      <th>file_path</th>\n",
       "      <th>speakerID</th>\n",
       "      <th>utt2spk</th>\n",
       "    </tr>\n",
       "  </thead>\n",
       "  <tbody>\n",
       "    <tr>\n",
       "      <th>0</th>\n",
       "      <td>0</td>\n",
       "      <td>test</td>\n",
       "      <td>maria1</td>\n",
       "      <td>0</td>\n",
       "      <td>0.714</td>\n",
       "      <td>2.554</td>\n",
       "      <td>cs</td>\n",
       "      <td>maria1_p0</td>\n",
       "      <td>/Users/alexander/git/ml-code-switched-speech-t...</td>\n",
       "      <td>maria</td>\n",
       "      <td>maria1_p0maria</td>\n",
       "    </tr>\n",
       "    <tr>\n",
       "      <th>1</th>\n",
       "      <td>1</td>\n",
       "      <td>NaN</td>\n",
       "      <td>maria1</td>\n",
       "      <td>1</td>\n",
       "      <td>3.262</td>\n",
       "      <td>1.109</td>\n",
       "      <td>NaN</td>\n",
       "      <td>maria1_p1</td>\n",
       "      <td>/Users/alexander/git/ml-code-switched-speech-t...</td>\n",
       "      <td>maria</td>\n",
       "      <td>maria1_p1maria</td>\n",
       "    </tr>\n",
       "    <tr>\n",
       "      <th>2</th>\n",
       "      <td>2</td>\n",
       "      <td>NaN</td>\n",
       "      <td>maria1</td>\n",
       "      <td>2</td>\n",
       "      <td>4.859</td>\n",
       "      <td>3.310</td>\n",
       "      <td>NaN</td>\n",
       "      <td>maria1_p2</td>\n",
       "      <td>/Users/alexander/git/ml-code-switched-speech-t...</td>\n",
       "      <td>maria</td>\n",
       "      <td>maria1_p2maria</td>\n",
       "    </tr>\n",
       "    <tr>\n",
       "      <th>3</th>\n",
       "      <td>3</td>\n",
       "      <td>NaN</td>\n",
       "      <td>maria1</td>\n",
       "      <td>3</td>\n",
       "      <td>8.719</td>\n",
       "      <td>2.903</td>\n",
       "      <td>NaN</td>\n",
       "      <td>maria1_p3</td>\n",
       "      <td>/Users/alexander/git/ml-code-switched-speech-t...</td>\n",
       "      <td>maria</td>\n",
       "      <td>maria1_p3maria</td>\n",
       "    </tr>\n",
       "    <tr>\n",
       "      <th>4</th>\n",
       "      <td>4</td>\n",
       "      <td>test</td>\n",
       "      <td>maria1</td>\n",
       "      <td>5</td>\n",
       "      <td>12.304</td>\n",
       "      <td>2.163</td>\n",
       "      <td>mono</td>\n",
       "      <td>maria1_p5</td>\n",
       "      <td>/Users/alexander/git/ml-code-switched-speech-t...</td>\n",
       "      <td>maria</td>\n",
       "      <td>maria1_p5maria</td>\n",
       "    </tr>\n",
       "    <tr>\n",
       "      <th>...</th>\n",
       "      <td>...</td>\n",
       "      <td>...</td>\n",
       "      <td>...</td>\n",
       "      <td>...</td>\n",
       "      <td>...</td>\n",
       "      <td>...</td>\n",
       "      <td>...</td>\n",
       "      <td>...</td>\n",
       "      <td>...</td>\n",
       "      <td>...</td>\n",
       "      <td>...</td>\n",
       "    </tr>\n",
       "    <tr>\n",
       "      <th>45644</th>\n",
       "      <td>45644</td>\n",
       "      <td>test</td>\n",
       "      <td>zeledon8</td>\n",
       "      <td>1420</td>\n",
       "      <td>2261.085</td>\n",
       "      <td>0.430</td>\n",
       "      <td>mono</td>\n",
       "      <td>zeledon8_p1420</td>\n",
       "      <td>/Users/alexander/git/ml-code-switched-speech-t...</td>\n",
       "      <td>zeledon</td>\n",
       "      <td>zeledon8_p1420zeledon</td>\n",
       "    </tr>\n",
       "    <tr>\n",
       "      <th>45645</th>\n",
       "      <td>45645</td>\n",
       "      <td>NaN</td>\n",
       "      <td>zeledon8</td>\n",
       "      <td>1421</td>\n",
       "      <td>2261.515</td>\n",
       "      <td>5.257</td>\n",
       "      <td>NaN</td>\n",
       "      <td>zeledon8_p1421</td>\n",
       "      <td>/Users/alexander/git/ml-code-switched-speech-t...</td>\n",
       "      <td>zeledon</td>\n",
       "      <td>zeledon8_p1421zeledon</td>\n",
       "    </tr>\n",
       "    <tr>\n",
       "      <th>45646</th>\n",
       "      <td>45646</td>\n",
       "      <td>NaN</td>\n",
       "      <td>zeledon8</td>\n",
       "      <td>1422</td>\n",
       "      <td>2265.198</td>\n",
       "      <td>4.929</td>\n",
       "      <td>NaN</td>\n",
       "      <td>zeledon8_p1422</td>\n",
       "      <td>/Users/alexander/git/ml-code-switched-speech-t...</td>\n",
       "      <td>zeledon</td>\n",
       "      <td>zeledon8_p1422zeledon</td>\n",
       "    </tr>\n",
       "    <tr>\n",
       "      <th>45647</th>\n",
       "      <td>45647</td>\n",
       "      <td>NaN</td>\n",
       "      <td>zeledon8</td>\n",
       "      <td>1423</td>\n",
       "      <td>2268.252</td>\n",
       "      <td>3.873</td>\n",
       "      <td>NaN</td>\n",
       "      <td>zeledon8_p1423</td>\n",
       "      <td>/Users/alexander/git/ml-code-switched-speech-t...</td>\n",
       "      <td>zeledon</td>\n",
       "      <td>zeledon8_p1423zeledon</td>\n",
       "    </tr>\n",
       "    <tr>\n",
       "      <th>45648</th>\n",
       "      <td>45648</td>\n",
       "      <td>test</td>\n",
       "      <td>zeledon8</td>\n",
       "      <td>1424</td>\n",
       "      <td>2270.191</td>\n",
       "      <td>2.729</td>\n",
       "      <td>cs</td>\n",
       "      <td>zeledon8_p1424</td>\n",
       "      <td>/Users/alexander/git/ml-code-switched-speech-t...</td>\n",
       "      <td>zeledon</td>\n",
       "      <td>zeledon8_p1424zeledon</td>\n",
       "    </tr>\n",
       "  </tbody>\n",
       "</table>\n",
       "<p>45649 rows × 11 columns</p>\n",
       "</div>"
      ],
      "text/plain": [
       "       global_idx split      file  file_line_num    offset  duration cs_type  \\\n",
       "0               0  test    maria1              0     0.714     2.554      cs   \n",
       "1               1   NaN    maria1              1     3.262     1.109     NaN   \n",
       "2               2   NaN    maria1              2     4.859     3.310     NaN   \n",
       "3               3   NaN    maria1              3     8.719     2.903     NaN   \n",
       "4               4  test    maria1              5    12.304     2.163    mono   \n",
       "...           ...   ...       ...            ...       ...       ...     ...   \n",
       "45644       45644  test  zeledon8           1420  2261.085     0.430    mono   \n",
       "45645       45645   NaN  zeledon8           1421  2261.515     5.257     NaN   \n",
       "45646       45646   NaN  zeledon8           1422  2265.198     4.929     NaN   \n",
       "45647       45647   NaN  zeledon8           1423  2268.252     3.873     NaN   \n",
       "45648       45648  test  zeledon8           1424  2270.191     2.729      cs   \n",
       "\n",
       "          utteranceID                                          file_path  \\\n",
       "0           maria1_p0  /Users/alexander/git/ml-code-switched-speech-t...   \n",
       "1           maria1_p1  /Users/alexander/git/ml-code-switched-speech-t...   \n",
       "2           maria1_p2  /Users/alexander/git/ml-code-switched-speech-t...   \n",
       "3           maria1_p3  /Users/alexander/git/ml-code-switched-speech-t...   \n",
       "4           maria1_p5  /Users/alexander/git/ml-code-switched-speech-t...   \n",
       "...               ...                                                ...   \n",
       "45644  zeledon8_p1420  /Users/alexander/git/ml-code-switched-speech-t...   \n",
       "45645  zeledon8_p1421  /Users/alexander/git/ml-code-switched-speech-t...   \n",
       "45646  zeledon8_p1422  /Users/alexander/git/ml-code-switched-speech-t...   \n",
       "45647  zeledon8_p1423  /Users/alexander/git/ml-code-switched-speech-t...   \n",
       "45648  zeledon8_p1424  /Users/alexander/git/ml-code-switched-speech-t...   \n",
       "\n",
       "      speakerID                utt2spk  \n",
       "0         maria         maria1_p0maria  \n",
       "1         maria         maria1_p1maria  \n",
       "2         maria         maria1_p2maria  \n",
       "3         maria         maria1_p3maria  \n",
       "4         maria         maria1_p5maria  \n",
       "...         ...                    ...  \n",
       "45644   zeledon  zeledon8_p1420zeledon  \n",
       "45645   zeledon  zeledon8_p1421zeledon  \n",
       "45646   zeledon  zeledon8_p1422zeledon  \n",
       "45647   zeledon  zeledon8_p1423zeledon  \n",
       "45648   zeledon  zeledon8_p1424zeledon  \n",
       "\n",
       "[45649 rows x 11 columns]"
      ]
     },
     "execution_count": 30,
     "metadata": {},
     "output_type": "execute_result"
    }
   ],
   "source": [
    "df"
   ]
  },
  {
   "cell_type": "code",
   "execution_count": 31,
   "id": "de450424",
   "metadata": {},
   "outputs": [],
   "source": [
    "df.to_csv('utt2spk', sep=' ', columns=['utteranceID', 'speakerID'], index=False, header=False)"
   ]
  },
  {
   "cell_type": "code",
   "execution_count": 1,
   "id": "df366e8a",
   "metadata": {},
   "outputs": [],
   "source": [
    "import subprocess\n",
    "import os\n",
    "from datasets import load_dataset"
   ]
  },
  {
   "cell_type": "code",
   "execution_count": 3,
   "id": "b201a4b5",
   "metadata": {},
   "outputs": [
    {
     "data": {
      "application/vnd.jupyter.widget-view+json": {
       "model_id": "4af50262c1fa479c9130db64545ebac0",
       "version_major": 2,
       "version_minor": 0
      },
      "text/plain": [
       "VBox(children=(HTML(value='<center> <img\\nsrc=https://huggingface.co/front/assets/huggingface_logo-noborder.sv…"
      ]
     },
     "metadata": {},
     "output_type": "display_data"
    }
   ],
   "source": [
    "from huggingface_hub import notebook_login\n",
    "notebook_login()"
   ]
  },
  {
   "cell_type": "code",
   "execution_count": 4,
   "id": "c34bef77",
   "metadata": {},
   "outputs": [
    {
     "name": "stderr",
     "output_type": "stream",
     "text": [
      "/Users/alexander/opt/anaconda3/lib/python3.9/site-packages/datasets/load.py:1461: FutureWarning: The repository for mozilla-foundation/common_voice_16_1 contains custom code which must be executed to correctly load the dataset. You can inspect the repository content at https://hf.co/datasets/mozilla-foundation/common_voice_16_1\n",
      "You can avoid this message in future by passing the argument `trust_remote_code=True`.\n",
      "Passing `trust_remote_code=True` will be mandatory to load this dataset from the next major release of `datasets`.\n",
      "  warnings.warn(\n"
     ]
    },
    {
     "data": {
      "application/vnd.jupyter.widget-view+json": {
       "model_id": "96cf480533cb43a6ad534a606c0f7b3e",
       "version_major": 2,
       "version_minor": 0
      },
      "text/plain": [
       "Downloading builder script:   0%|          | 0.00/8.17k [00:00<?, ?B/s]"
      ]
     },
     "metadata": {},
     "output_type": "display_data"
    },
    {
     "data": {
      "application/vnd.jupyter.widget-view+json": {
       "model_id": "ef6a8016f8fb40d9bea20457119398d0",
       "version_major": 2,
       "version_minor": 0
      },
      "text/plain": [
       "Downloading readme:   0%|          | 0.00/12.3k [00:00<?, ?B/s]"
      ]
     },
     "metadata": {},
     "output_type": "display_data"
    },
    {
     "data": {
      "application/vnd.jupyter.widget-view+json": {
       "model_id": "36fee4640afd4a63993aadbea38ffb78",
       "version_major": 2,
       "version_minor": 0
      },
      "text/plain": [
       "Downloading extra modules:   0%|          | 0.00/3.74k [00:00<?, ?B/s]"
      ]
     },
     "metadata": {},
     "output_type": "display_data"
    },
    {
     "data": {
      "application/vnd.jupyter.widget-view+json": {
       "model_id": "173153d87c26458993a290c09c80401c",
       "version_major": 2,
       "version_minor": 0
      },
      "text/plain": [
       "Downloading extra modules:   0%|          | 0.00/77.3k [00:00<?, ?B/s]"
      ]
     },
     "metadata": {},
     "output_type": "display_data"
    },
    {
     "data": {
      "application/vnd.jupyter.widget-view+json": {
       "model_id": "413dedd96f494745add996c0b064d58f",
       "version_major": 2,
       "version_minor": 0
      },
      "text/plain": [
       "Downloading data:   0%|          | 0.00/14.6k [00:00<?, ?B/s]"
      ]
     },
     "metadata": {},
     "output_type": "display_data"
    },
    {
     "data": {
      "application/vnd.jupyter.widget-view+json": {
       "model_id": "66a21352d5b8483c86d69d8518304e59",
       "version_major": 2,
       "version_minor": 0
      },
      "text/plain": [
       "Downloading data:   0%|          | 0.00/1.80G [00:00<?, ?B/s]"
      ]
     },
     "metadata": {},
     "output_type": "display_data"
    },
    {
     "data": {
      "application/vnd.jupyter.widget-view+json": {
       "model_id": "baee180acb994839a460763bf668de8a",
       "version_major": 2,
       "version_minor": 0
      },
      "text/plain": [
       "Downloading data:   0%|          | 0.00/1.79G [00:00<?, ?B/s]"
      ]
     },
     "metadata": {},
     "output_type": "display_data"
    },
    {
     "data": {
      "application/vnd.jupyter.widget-view+json": {
       "model_id": "a9b2b5aefad841c48269f3bb5a2cecd7",
       "version_major": 2,
       "version_minor": 0
      },
      "text/plain": [
       "Downloading data:   0%|          | 0.00/1.74G [00:00<?, ?B/s]"
      ]
     },
     "metadata": {},
     "output_type": "display_data"
    },
    {
     "data": {
      "application/vnd.jupyter.widget-view+json": {
       "model_id": "7869cab13e1d4c8fab23847276b59b39",
       "version_major": 2,
       "version_minor": 0
      },
      "text/plain": [
       "Downloading data:   0%|          | 0.00/1.70G [00:00<?, ?B/s]"
      ]
     },
     "metadata": {},
     "output_type": "display_data"
    },
    {
     "data": {
      "application/vnd.jupyter.widget-view+json": {
       "model_id": "a1597063df8c45809b4a81e30a5c0e50",
       "version_major": 2,
       "version_minor": 0
      },
      "text/plain": [
       "Downloading data:   0%|          | 0.00/1.70G [00:00<?, ?B/s]"
      ]
     },
     "metadata": {},
     "output_type": "display_data"
    },
    {
     "data": {
      "application/vnd.jupyter.widget-view+json": {
       "model_id": "b238d54548b643528af73a5dbc17f3e2",
       "version_major": 2,
       "version_minor": 0
      },
      "text/plain": [
       "Downloading data:   0%|          | 0.00/1.69G [00:00<?, ?B/s]"
      ]
     },
     "metadata": {},
     "output_type": "display_data"
    },
    {
     "data": {
      "application/vnd.jupyter.widget-view+json": {
       "model_id": "37bee24912b8411aa0205be6426024e4",
       "version_major": 2,
       "version_minor": 0
      },
      "text/plain": [
       "Downloading data:   0%|          | 0.00/1.68G [00:00<?, ?B/s]"
      ]
     },
     "metadata": {},
     "output_type": "display_data"
    },
    {
     "data": {
      "application/vnd.jupyter.widget-view+json": {
       "model_id": "4c920c645aed4066af1b0daa58518d84",
       "version_major": 2,
       "version_minor": 0
      },
      "text/plain": [
       "Downloading data:   0%|          | 0.00/1.64G [00:00<?, ?B/s]"
      ]
     },
     "metadata": {},
     "output_type": "display_data"
    },
    {
     "data": {
      "application/vnd.jupyter.widget-view+json": {
       "model_id": "7f54f3ab173e4be0a274751f9d1789f0",
       "version_major": 2,
       "version_minor": 0
      },
      "text/plain": [
       "Downloading data:   0%|          | 0.00/1.66G [00:00<?, ?B/s]"
      ]
     },
     "metadata": {},
     "output_type": "display_data"
    },
    {
     "data": {
      "application/vnd.jupyter.widget-view+json": {
       "model_id": "bdc46b95d3c24387b44cbc34755f79cf",
       "version_major": 2,
       "version_minor": 0
      },
      "text/plain": [
       "Downloading data:   0%|          | 0.00/1.60G [00:00<?, ?B/s]"
      ]
     },
     "metadata": {},
     "output_type": "display_data"
    },
    {
     "data": {
      "application/vnd.jupyter.widget-view+json": {
       "model_id": "1b483e7c0b4a4e4cb5aa941638dfe434",
       "version_major": 2,
       "version_minor": 0
      },
      "text/plain": [
       "Downloading data:   0%|          | 0.00/1.62G [00:00<?, ?B/s]"
      ]
     },
     "metadata": {},
     "output_type": "display_data"
    },
    {
     "data": {
      "application/vnd.jupyter.widget-view+json": {
       "model_id": "7ebe4dd3b4f64f6ea0b1e36a87e187e2",
       "version_major": 2,
       "version_minor": 0
      },
      "text/plain": [
       "Downloading data:   0%|          | 0.00/1.62G [00:00<?, ?B/s]"
      ]
     },
     "metadata": {},
     "output_type": "display_data"
    },
    {
     "data": {
      "application/vnd.jupyter.widget-view+json": {
       "model_id": "334829ce58464c329bc556c12516820b",
       "version_major": 2,
       "version_minor": 0
      },
      "text/plain": [
       "Downloading data:   0%|          | 0.00/1.58G [00:00<?, ?B/s]"
      ]
     },
     "metadata": {},
     "output_type": "display_data"
    },
    {
     "data": {
      "application/vnd.jupyter.widget-view+json": {
       "model_id": "522610cd6f0e436389ba32be55456ee0",
       "version_major": 2,
       "version_minor": 0
      },
      "text/plain": [
       "Downloading data:   0%|          | 0.00/1.59G [00:00<?, ?B/s]"
      ]
     },
     "metadata": {},
     "output_type": "display_data"
    },
    {
     "data": {
      "application/vnd.jupyter.widget-view+json": {
       "model_id": "779f73f0afde4502a774029587b0cc20",
       "version_major": 2,
       "version_minor": 0
      },
      "text/plain": [
       "Downloading data:   0%|          | 0.00/1.58G [00:00<?, ?B/s]"
      ]
     },
     "metadata": {},
     "output_type": "display_data"
    },
    {
     "data": {
      "application/vnd.jupyter.widget-view+json": {
       "model_id": "f682fa21cb8c4e66918611af6b01dbfd",
       "version_major": 2,
       "version_minor": 0
      },
      "text/plain": [
       "Downloading data:   0%|          | 0.00/1.55G [00:00<?, ?B/s]"
      ]
     },
     "metadata": {},
     "output_type": "display_data"
    },
    {
     "data": {
      "application/vnd.jupyter.widget-view+json": {
       "model_id": "2e105e56538748938bceeacbb4e4c471",
       "version_major": 2,
       "version_minor": 0
      },
      "text/plain": [
       "Downloading data:   0%|          | 0.00/1.55G [00:00<?, ?B/s]"
      ]
     },
     "metadata": {},
     "output_type": "display_data"
    },
    {
     "data": {
      "application/vnd.jupyter.widget-view+json": {
       "model_id": "3f9ba6734305412094736afda84df6a2",
       "version_major": 2,
       "version_minor": 0
      },
      "text/plain": [
       "Downloading data:   0%|          | 0.00/1.59G [00:00<?, ?B/s]"
      ]
     },
     "metadata": {},
     "output_type": "display_data"
    },
    {
     "data": {
      "application/vnd.jupyter.widget-view+json": {
       "model_id": "8b260d9673c4488eb94ee761d76e4e11",
       "version_major": 2,
       "version_minor": 0
      },
      "text/plain": [
       "Downloading data:   0%|          | 0.00/1.57G [00:00<?, ?B/s]"
      ]
     },
     "metadata": {},
     "output_type": "display_data"
    },
    {
     "data": {
      "application/vnd.jupyter.widget-view+json": {
       "model_id": "53b13f24b18e423a99ffb3e8023d9b29",
       "version_major": 2,
       "version_minor": 0
      },
      "text/plain": [
       "Downloading data:   0%|          | 0.00/1.57G [00:00<?, ?B/s]"
      ]
     },
     "metadata": {},
     "output_type": "display_data"
    },
    {
     "data": {
      "application/vnd.jupyter.widget-view+json": {
       "model_id": "44805ed071bc4a24b9f77ff844a699a6",
       "version_major": 2,
       "version_minor": 0
      },
      "text/plain": [
       "Downloading data:   0%|          | 0.00/1.60G [00:00<?, ?B/s]"
      ]
     },
     "metadata": {},
     "output_type": "display_data"
    },
    {
     "data": {
      "application/vnd.jupyter.widget-view+json": {
       "model_id": "6f8e90f0471e419e9ca721b86a43349d",
       "version_major": 2,
       "version_minor": 0
      },
      "text/plain": [
       "Downloading data:   0%|          | 0.00/1.50G [00:00<?, ?B/s]"
      ]
     },
     "metadata": {},
     "output_type": "display_data"
    },
    {
     "data": {
      "application/vnd.jupyter.widget-view+json": {
       "model_id": "046989f5ccad44eb96c193ef927549e0",
       "version_major": 2,
       "version_minor": 0
      },
      "text/plain": [
       "Downloading data:   0%|          | 0.00/1.60G [00:00<?, ?B/s]"
      ]
     },
     "metadata": {},
     "output_type": "display_data"
    },
    {
     "data": {
      "application/vnd.jupyter.widget-view+json": {
       "model_id": "31ab2b90fea9478392b19b7154d84c2f",
       "version_major": 2,
       "version_minor": 0
      },
      "text/plain": [
       "Downloading data:   0%|          | 0.00/1.49G [00:00<?, ?B/s]"
      ]
     },
     "metadata": {},
     "output_type": "display_data"
    },
    {
     "data": {
      "application/vnd.jupyter.widget-view+json": {
       "model_id": "31b2e362b79344cc827b59d359ce6b57",
       "version_major": 2,
       "version_minor": 0
      },
      "text/plain": [
       "Downloading data:   0%|          | 0.00/1.71G [00:00<?, ?B/s]"
      ]
     },
     "metadata": {},
     "output_type": "display_data"
    },
    {
     "data": {
      "application/vnd.jupyter.widget-view+json": {
       "model_id": "413daec4ed40400b85f08a1656734731",
       "version_major": 2,
       "version_minor": 0
      },
      "text/plain": [
       "Downloading data:   0%|          | 0.00/1.59G [00:00<?, ?B/s]"
      ]
     },
     "metadata": {},
     "output_type": "display_data"
    },
    {
     "data": {
      "application/vnd.jupyter.widget-view+json": {
       "model_id": "6f312ca4a92f4782af410ac539b8323c",
       "version_major": 2,
       "version_minor": 0
      },
      "text/plain": [
       "Downloading data:   0%|          | 0.00/2.09G [00:00<?, ?B/s]"
      ]
     },
     "metadata": {},
     "output_type": "display_data"
    },
    {
     "data": {
      "application/vnd.jupyter.widget-view+json": {
       "model_id": "5b1391c3414049bc9fd0c5fef9e8e54b",
       "version_major": 2,
       "version_minor": 0
      },
      "text/plain": [
       "Downloading data:   0%|          | 0.00/370M [00:00<?, ?B/s]"
      ]
     },
     "metadata": {},
     "output_type": "display_data"
    },
    {
     "data": {
      "application/vnd.jupyter.widget-view+json": {
       "model_id": "67d654be106146fca9703e07b7564e94",
       "version_major": 2,
       "version_minor": 0
      },
      "text/plain": [
       "Downloading data:   0%|          | 0.00/717M [00:00<?, ?B/s]"
      ]
     },
     "metadata": {},
     "output_type": "display_data"
    },
    {
     "data": {
      "application/vnd.jupyter.widget-view+json": {
       "model_id": "3dc436237a1c4322bf51b52647db6945",
       "version_major": 2,
       "version_minor": 0
      },
      "text/plain": [
       "Downloading data:   0%|          | 0.00/714M [00:00<?, ?B/s]"
      ]
     },
     "metadata": {},
     "output_type": "display_data"
    },
    {
     "data": {
      "application/vnd.jupyter.widget-view+json": {
       "model_id": "344c6820ef1a4a2d988dffc4f15acd47",
       "version_major": 2,
       "version_minor": 0
      },
      "text/plain": [
       "Downloading data:   0%|          | 0.00/1.32G [00:00<?, ?B/s]"
      ]
     },
     "metadata": {},
     "output_type": "display_data"
    },
    {
     "data": {
      "application/vnd.jupyter.widget-view+json": {
       "model_id": "b7e45214f7a04fc9a876a234f6514af0",
       "version_major": 2,
       "version_minor": 0
      },
      "text/plain": [
       "Downloading data:   0%|          | 0.00/1.31G [00:00<?, ?B/s]"
      ]
     },
     "metadata": {},
     "output_type": "display_data"
    },
    {
     "data": {
      "application/vnd.jupyter.widget-view+json": {
       "model_id": "57b8877ab54248c4b5224f3b392fac2d",
       "version_major": 2,
       "version_minor": 0
      },
      "text/plain": [
       "Downloading data:   0%|          | 0.00/1.39G [00:00<?, ?B/s]"
      ]
     },
     "metadata": {},
     "output_type": "display_data"
    },
    {
     "data": {
      "application/vnd.jupyter.widget-view+json": {
       "model_id": "a3f76ef3652a4d2b8ae13343f2d131de",
       "version_major": 2,
       "version_minor": 0
      },
      "text/plain": [
       "Downloading data:   0%|          | 0.00/1.26G [00:00<?, ?B/s]"
      ]
     },
     "metadata": {},
     "output_type": "display_data"
    },
    {
     "data": {
      "application/vnd.jupyter.widget-view+json": {
       "model_id": "5fa9b648e59e439e8a64acd52f17861a",
       "version_major": 2,
       "version_minor": 0
      },
      "text/plain": [
       "Downloading data:   0%|          | 0.00/1.39G [00:00<?, ?B/s]"
      ]
     },
     "metadata": {},
     "output_type": "display_data"
    },
    {
     "data": {
      "application/vnd.jupyter.widget-view+json": {
       "model_id": "501e33f24a244c908647bb42e76c04de",
       "version_major": 2,
       "version_minor": 0
      },
      "text/plain": [
       "Downloading data:   0%|          | 0.00/1.49G [00:00<?, ?B/s]"
      ]
     },
     "metadata": {},
     "output_type": "display_data"
    },
    {
     "data": {
      "application/vnd.jupyter.widget-view+json": {
       "model_id": "b59ca41808dd4afba00e837aea475d65",
       "version_major": 2,
       "version_minor": 0
      },
      "text/plain": [
       "Downloading data:   0%|          | 0.00/1.50G [00:00<?, ?B/s]"
      ]
     },
     "metadata": {},
     "output_type": "display_data"
    },
    {
     "data": {
      "application/vnd.jupyter.widget-view+json": {
       "model_id": "8a5e1d527d244d20a760d1d84df2504f",
       "version_major": 2,
       "version_minor": 0
      },
      "text/plain": [
       "Downloading data:   0%|          | 0.00/681M [00:00<?, ?B/s]"
      ]
     },
     "metadata": {},
     "output_type": "display_data"
    },
    {
     "data": {
      "application/vnd.jupyter.widget-view+json": {
       "model_id": "f197bd9e476c465595ddbe9ae60ddb37",
       "version_major": 2,
       "version_minor": 0
      },
      "text/plain": [
       "Downloading data:   0%|          | 0.00/1.87G [00:00<?, ?B/s]"
      ]
     },
     "metadata": {},
     "output_type": "display_data"
    },
    {
     "data": {
      "application/vnd.jupyter.widget-view+json": {
       "model_id": "8c949afb9d7e4eb08c563e603ac0623f",
       "version_major": 2,
       "version_minor": 0
      },
      "text/plain": [
       "Downloading data:   0%|          | 0.00/1.60G [00:00<?, ?B/s]"
      ]
     },
     "metadata": {},
     "output_type": "display_data"
    },
    {
     "data": {
      "application/vnd.jupyter.widget-view+json": {
       "model_id": "ae988ad6c145457ab7cf5ee8851751d2",
       "version_major": 2,
       "version_minor": 0
      },
      "text/plain": [
       "Downloading data:   0%|          | 0.00/2.09G [00:00<?, ?B/s]"
      ]
     },
     "metadata": {},
     "output_type": "display_data"
    },
    {
     "data": {
      "application/vnd.jupyter.widget-view+json": {
       "model_id": "767daa8bf4ba4b20b70fc842d2608d91",
       "version_major": 2,
       "version_minor": 0
      },
      "text/plain": [
       "Downloading data:   0%|          | 0.00/2.14G [00:00<?, ?B/s]"
      ]
     },
     "metadata": {},
     "output_type": "display_data"
    },
    {
     "data": {
      "application/vnd.jupyter.widget-view+json": {
       "model_id": "f42b76deb38c4a56b33d60faab82b9ae",
       "version_major": 2,
       "version_minor": 0
      },
      "text/plain": [
       "Downloading data:   0%|          | 0.00/1.95G [00:00<?, ?B/s]"
      ]
     },
     "metadata": {},
     "output_type": "display_data"
    },
    {
     "data": {
      "application/vnd.jupyter.widget-view+json": {
       "model_id": "b65843dba79e455d95cb2d93c6a16147",
       "version_major": 2,
       "version_minor": 0
      },
      "text/plain": [
       "Downloading data:   0%|          | 0.00/1.64G [00:00<?, ?B/s]"
      ]
     },
     "metadata": {},
     "output_type": "display_data"
    },
    {
     "data": {
      "application/vnd.jupyter.widget-view+json": {
       "model_id": "0929dc9d8a0d488796724a99b5e3f312",
       "version_major": 2,
       "version_minor": 0
      },
      "text/plain": [
       "Downloading data:   0%|          | 0.00/1.43G [00:00<?, ?B/s]"
      ]
     },
     "metadata": {},
     "output_type": "display_data"
    },
    {
     "data": {
      "application/vnd.jupyter.widget-view+json": {
       "model_id": "21173dbe629a4eeabd03866244008f09",
       "version_major": 2,
       "version_minor": 0
      },
      "text/plain": [
       "Downloading data:   0%|          | 0.00/300M [00:00<?, ?B/s]"
      ]
     },
     "metadata": {},
     "output_type": "display_data"
    },
    {
     "data": {
      "application/vnd.jupyter.widget-view+json": {
       "model_id": "f10380b543874ed0a0b5da3bb368a44f",
       "version_major": 2,
       "version_minor": 0
      },
      "text/plain": [
       "Downloading data:   0%|          | 0.00/280M [00:00<?, ?B/s]"
      ]
     },
     "metadata": {},
     "output_type": "display_data"
    },
    {
     "data": {
      "application/vnd.jupyter.widget-view+json": {
       "model_id": "414416fd70d5493bae5b47b409b880ca",
       "version_major": 2,
       "version_minor": 0
      },
      "text/plain": [
       "Downloading data:   0%|          | 0.00/3.81M [00:00<?, ?B/s]"
      ]
     },
     "metadata": {},
     "output_type": "display_data"
    },
    {
     "data": {
      "application/vnd.jupyter.widget-view+json": {
       "model_id": "00e758590d7745a2ab953257c0928ac1",
       "version_major": 2,
       "version_minor": 0
      },
      "text/plain": [
       "Downloading data:   0%|          | 0.00/3.78M [00:00<?, ?B/s]"
      ]
     },
     "metadata": {},
     "output_type": "display_data"
    },
    {
     "data": {
      "application/vnd.jupyter.widget-view+json": {
       "model_id": "5eb39d8c7a3e438b8ed60ff87d401c03",
       "version_major": 2,
       "version_minor": 0
      },
      "text/plain": [
       "Downloading data:   0%|          | 0.00/74.4M [00:00<?, ?B/s]"
      ]
     },
     "metadata": {},
     "output_type": "display_data"
    },
    {
     "data": {
      "application/vnd.jupyter.widget-view+json": {
       "model_id": "6f6a6fbd96ad43a48edeacb510eb7242",
       "version_major": 2,
       "version_minor": 0
      },
      "text/plain": [
       "Downloading data:   0%|          | 0.00/71.8M [00:00<?, ?B/s]"
      ]
     },
     "metadata": {},
     "output_type": "display_data"
    },
    {
     "data": {
      "application/vnd.jupyter.widget-view+json": {
       "model_id": "6d54ff8a5da2410285c6c569a57441e7",
       "version_major": 2,
       "version_minor": 0
      },
      "text/plain": [
       "Generating train split: 0 examples [00:00, ? examples/s]"
      ]
     },
     "metadata": {},
     "output_type": "display_data"
    },
    {
     "name": "stderr",
     "output_type": "stream",
     "text": [
      "\n",
      "Reading metadata...: 0it [00:00, ?it/s]\u001b[A\n",
      "Reading metadata...: 9236it [00:00, 92351.50it/s]\u001b[A\n",
      "Reading metadata...: 24935it [00:00, 130370.40it/s]\u001b[A\n",
      "Reading metadata...: 40468it [00:00, 141763.18it/s]\u001b[A\n",
      "Reading metadata...: 55968it [00:00, 146983.55it/s]\u001b[A\n",
      "Reading metadata...: 71466it [00:00, 149862.79it/s]\u001b[A\n",
      "Reading metadata...: 86989it [00:00, 151684.04it/s]\u001b[A\n",
      "Reading metadata...: 102609it [00:00, 153156.93it/s]\u001b[A\n",
      "Reading metadata...: 117925it [00:00, 151541.86it/s]\u001b[A\n",
      "Reading metadata...: 133418it [00:00, 152590.30it/s]\u001b[A\n",
      "Reading metadata...: 148861it [00:01, 153153.62it/s]\u001b[A\n",
      "Reading metadata...: 164266it [00:01, 153419.89it/s]\u001b[A\n",
      "Reading metadata...: 179610it [00:01, 151272.63it/s]\u001b[A\n",
      "Reading metadata...: 194745it [00:01, 151037.59it/s]\u001b[A\n",
      "Reading metadata...: 209964it [00:01, 151379.25it/s]\u001b[A\n",
      "Reading metadata...: 225106it [00:01, 151208.83it/s]\u001b[A\n",
      "Reading metadata...: 240230it [00:01, 150544.47it/s]\u001b[A\n",
      "Reading metadata...: 255287it [00:01, 149372.72it/s]\u001b[A\n",
      "Reading metadata...: 270228it [00:01, 148752.92it/s]\u001b[A\n",
      "Reading metadata...: 285106it [00:01, 147989.85it/s]\u001b[A\n",
      "Reading metadata...: 299975it [00:02, 148194.58it/s]\u001b[A\n",
      "Reading metadata...: 314796it [00:02, 147612.75it/s]\u001b[A\n",
      "Reading metadata...: 329559it [00:02, 147465.11it/s]\u001b[A\n",
      "Reading metadata...: 344307it [00:02, 147051.76it/s]\u001b[A\n",
      "Reading metadata...: 359013it [00:02, 143262.04it/s]\u001b[A\n",
      "Reading metadata...: 373796it [00:02, 144599.85it/s]\u001b[A\n",
      "Reading metadata...: 388784it [00:02, 146153.93it/s]\u001b[A\n",
      "Reading metadata...: 403631it [00:02, 146837.99it/s]\u001b[A\n",
      "Reading metadata...: 418690it [00:02, 147952.56it/s]\u001b[A\n",
      "Reading metadata...: 433613it [00:02, 148331.49it/s]\u001b[A\n",
      "Reading metadata...: 448535it [00:03, 148594.72it/s]\u001b[A\n",
      "Reading metadata...: 463399it [00:03, 148463.02it/s]\u001b[A\n",
      "Reading metadata...: 478249it [00:03, 147894.37it/s]\u001b[A\n",
      "Reading metadata...: 493041it [00:03, 147846.90it/s]\u001b[A\n",
      "Reading metadata...: 507889it [00:03, 148031.79it/s]\u001b[A\n",
      "Reading metadata...: 522721it [00:03, 148115.33it/s]\u001b[A\n",
      "Reading metadata...: 537534it [00:03, 146306.34it/s]\u001b[A\n",
      "Reading metadata...: 552171it [00:03, 146071.00it/s]\u001b[A\n",
      "Reading metadata...: 566979it [00:03, 146666.99it/s]\u001b[A\n",
      "Reading metadata...: 581649it [00:03, 146522.14it/s]\u001b[A\n",
      "Reading metadata...: 596304it [00:04, 146390.23it/s]\u001b[A\n",
      "Reading metadata...: 610945it [00:04, 146208.27it/s]\u001b[A\n",
      "Reading metadata...: 625567it [00:04, 144984.50it/s]\u001b[A\n",
      "Reading metadata...: 640069it [00:04, 143512.48it/s]\u001b[A\n",
      "Reading metadata...: 654425it [00:04, 143443.87it/s]\u001b[A\n",
      "Reading metadata...: 668773it [00:04, 143195.98it/s]\u001b[A\n",
      "Reading metadata...: 683236it [00:04, 143620.95it/s]\u001b[A\n",
      "Reading metadata...: 697600it [00:04, 143413.19it/s]\u001b[A\n",
      "Reading metadata...: 711943it [00:04, 137326.65it/s]\u001b[A\n",
      "Reading metadata...: 726681it [00:04, 140237.45it/s]\u001b[A\n",
      "Reading metadata...: 741333it [00:05, 142074.23it/s]\u001b[A\n",
      "Reading metadata...: 755929it [00:05, 143217.55it/s]\u001b[A\n",
      "Reading metadata...: 770414it [00:05, 143698.50it/s]\u001b[A\n",
      "Reading metadata...: 785197it [00:05, 144923.38it/s]\u001b[A\n",
      "Reading metadata...: 799980it [00:05, 145785.85it/s]\u001b[A\n",
      "Reading metadata...: 814570it [00:05, 145786.35it/s]\u001b[A\n",
      "Reading metadata...: 829157it [00:05, 144347.84it/s]\u001b[A\n",
      "Reading metadata...: 843601it [00:05, 143777.36it/s]\u001b[A\n",
      "Reading metadata...: 857985it [00:05, 142598.76it/s]\u001b[A\n",
      "Reading metadata...: 872251it [00:05, 141785.13it/s]\u001b[A\n",
      "Reading metadata...: 886840it [00:06, 142997.49it/s]\u001b[A\n",
      "Reading metadata...: 901904it [00:06, 145267.01it/s]\u001b[A\n",
      "Reading metadata...: 916436it [00:06, 142596.30it/s]\u001b[A\n",
      "Reading metadata...: 930709it [00:06, 142097.87it/s]\u001b[A\n",
      "Reading metadata...: 944928it [00:06, 141571.21it/s]\u001b[A\n",
      "Reading metadata...: 959319it [00:06, 142262.24it/s]\u001b[A\n",
      "Reading metadata...: 974065it [00:06, 143803.69it/s]\u001b[A\n",
      "Reading metadata...: 988687it [00:06, 144519.59it/s]\u001b[A\n",
      "Reading metadata...: 1003261it [00:06, 144881.80it/s]\u001b[A\n",
      "Reading metadata...: 1017957it [00:06, 145500.59it/s]\u001b[A\n",
      "Reading metadata...: 1032568it [00:07, 145679.92it/s]\u001b[A\n",
      "Reading metadata...: 1047138it [00:07, 145132.95it/s]\u001b[A\n",
      "Reading metadata...: 1061653it [00:07, 143769.56it/s]\u001b[A\n",
      "Reading metadata...: 1090061it [00:07, 145652.19it/s]\u001b[A\n"
     ]
    },
    {
     "data": {
      "application/vnd.jupyter.widget-view+json": {
       "model_id": "8cfe6aaf2620448e8d74642c3c935f36",
       "version_major": 2,
       "version_minor": 0
      },
      "text/plain": [
       "Generating validation split: 0 examples [00:00, ? examples/s]"
      ]
     },
     "metadata": {},
     "output_type": "display_data"
    },
    {
     "name": "stderr",
     "output_type": "stream",
     "text": [
      "\n",
      "Reading metadata...: 0it [00:00, ?it/s]\u001b[A\n",
      "Reading metadata...: 16390it [00:00, 161153.75it/s]\u001b[A\n"
     ]
    },
    {
     "data": {
      "application/vnd.jupyter.widget-view+json": {
       "model_id": "7f2592b746274d0abb9c48c71fead80c",
       "version_major": 2,
       "version_minor": 0
      },
      "text/plain": [
       "Generating test split: 0 examples [00:00, ? examples/s]"
      ]
     },
     "metadata": {},
     "output_type": "display_data"
    },
    {
     "name": "stderr",
     "output_type": "stream",
     "text": [
      "\n",
      "Reading metadata...: 0it [00:00, ?it/s]\u001b[A\n",
      "Reading metadata...: 16390it [00:00, 159349.12it/s]\u001b[A\n"
     ]
    },
    {
     "data": {
      "application/vnd.jupyter.widget-view+json": {
       "model_id": "6946a2adc2134151b98b3b2b2351d2a6",
       "version_major": 2,
       "version_minor": 0
      },
      "text/plain": [
       "Generating other split: 0 examples [00:00, ? examples/s]"
      ]
     },
     "metadata": {},
     "output_type": "display_data"
    },
    {
     "name": "stderr",
     "output_type": "stream",
     "text": [
      "\n",
      "Reading metadata...: 0it [00:00, ?it/s]\u001b[A\n",
      "Reading metadata...: 15910it [00:00, 159089.15it/s]\u001b[A\n",
      "Reading metadata...: 31819it [00:00, 157489.78it/s]\u001b[A\n",
      "Reading metadata...: 47570it [00:00, 150159.15it/s]\u001b[A\n",
      "Reading metadata...: 62622it [00:00, 144651.68it/s]\u001b[A\n",
      "Reading metadata...: 78430it [00:00, 149273.16it/s]\u001b[A\n",
      "Reading metadata...: 93880it [00:00, 150987.76it/s]\u001b[A\n",
      "Reading metadata...: 109569it [00:00, 152874.02it/s]\u001b[A\n",
      "Reading metadata...: 125675it [00:00, 155439.48it/s]\u001b[A\n",
      "Reading metadata...: 141391it [00:00, 155970.08it/s]\u001b[A\n",
      "Reading metadata...: 157080it [00:01, 156249.81it/s]\u001b[A\n",
      "Reading metadata...: 172717it [00:01, 154033.25it/s]\u001b[A\n",
      "Reading metadata...: 188135it [00:01, 145602.43it/s]\u001b[A\n",
      "Reading metadata...: 202843it [00:01, 146026.04it/s]\u001b[A\n",
      "Reading metadata...: 217515it [00:01, 145060.39it/s]\u001b[A\n",
      "Reading metadata...: 232068it [00:01, 142637.16it/s]\u001b[A\n",
      "Reading metadata...: 246367it [00:01, 140335.07it/s]\u001b[A\n",
      "Reading metadata...: 260427it [00:01, 138367.48it/s]\u001b[A\n",
      "Reading metadata...: 274282it [00:01, 135476.45it/s]\u001b[A\n",
      "Reading metadata...: 299335it [00:02, 144857.44it/s]\u001b[A\n"
     ]
    },
    {
     "data": {
      "application/vnd.jupyter.widget-view+json": {
       "model_id": "cfe79bb8b83042f4b2bc4ece3439bbcc",
       "version_major": 2,
       "version_minor": 0
      },
      "text/plain": [
       "Generating invalidated split: 0 examples [00:00, ? examples/s]"
      ]
     },
     "metadata": {},
     "output_type": "display_data"
    },
    {
     "name": "stderr",
     "output_type": "stream",
     "text": [
      "\n",
      "Reading metadata...: 0it [00:00, ?it/s]\u001b[A\n",
      "Reading metadata...: 16050it [00:00, 160493.27it/s]\u001b[A\n",
      "Reading metadata...: 32100it [00:00, 160239.11it/s]\u001b[A\n",
      "Reading metadata...: 48124it [00:00, 158266.09it/s]\u001b[A\n",
      "Reading metadata...: 64141it [00:00, 159007.45it/s]\u001b[A\n",
      "Reading metadata...: 80044it [00:00, 154879.45it/s]\u001b[A\n",
      "Reading metadata...: 95550it [00:00, 152659.83it/s]\u001b[A\n",
      "Reading metadata...: 110830it [00:00, 152567.87it/s]\u001b[A\n",
      "Reading metadata...: 126096it [00:00, 152591.97it/s]\u001b[A\n",
      "Reading metadata...: 141362it [00:00, 152258.31it/s]\u001b[A\n",
      "Reading metadata...: 156681it [00:01, 152539.95it/s]\u001b[A\n",
      "Reading metadata...: 172369it [00:01, 153856.43it/s]\u001b[A\n",
      "Reading metadata...: 187758it [00:01, 152568.54it/s]\u001b[A\n",
      "Reading metadata...: 203617it [00:01, 154374.56it/s]\u001b[A\n",
      "Reading metadata...: 219059it [00:01, 154333.47it/s]\u001b[A\n",
      "Reading metadata...: 234496it [00:01, 152196.60it/s]\u001b[A\n",
      "Reading metadata...: 249911it [00:01, 152773.25it/s]\u001b[A\n",
      "Reading metadata...: 265424it [00:01, 153473.59it/s]\u001b[A\n",
      "Reading metadata...: 288077it [00:01, 153659.57it/s]\u001b[A\n"
     ]
    }
   ],
   "source": [
    "# Load the dataset\n",
    "dataset = load_dataset(\"mozilla-foundation/common_voice_16_1\", \"en\", split=\"validation\")"
   ]
  },
  {
   "cell_type": "code",
   "execution_count": null,
   "id": "d8ad024c",
   "metadata": {},
   "outputs": [],
   "source": [
    "\n",
    "\n",
    "# Directory to save the audio files\n",
    "output_dir = 'cv_16-1_en_audio'\n",
    "os.makedirs(output_dir, exist_ok=True)\n",
    "\n",
    "# Process each record in the dataset\n",
    "for i, record in enumerate(dataset):\n",
    "    # Define the path for the output MP3 file\n",
    "    file_path = os.path.join(output_dir, f\"{record['client_id']}_{i}.mp3\")\n",
    "\n",
    "    # The audio is assumed to be a binary blob in record['audio']['array']\n",
    "    # We write this blob to a temporary MP3 file first\n",
    "    temp_path = file_path + \".tmp.mp3\"\n",
    "    with open(temp_path, 'wb') as f:\n",
    "        f.write(record['audio']['array'])\n",
    "\n",
    "    # Use ffmpeg to convert the MP3 file (if needed, here it's just copying the data)\n",
    "    cmd = [\n",
    "        'ffmpeg',\n",
    "        '-i', temp_path,  # Input file\n",
    "        '-codec:a', 'libmp3lame',  # Use MP3 encoder\n",
    "        '-qscale:a', '2',  # Quality scale, 2 is high quality (VBR), values are 0-9\n",
    "        file_path  # Output file\n",
    "    ]\n",
    "    subprocess.run(cmd, check=True)\n",
    "\n",
    "    # Remove the temporary file\n",
    "    os.remove(temp_path)\n",
    "\n",
    "    print(f\"Saved {file_path}\")\n",
    "\n"
   ]
  }
 ],
 "metadata": {
  "kernelspec": {
   "display_name": "Python 3 (ipykernel)",
   "language": "python",
   "name": "python3"
  },
  "language_info": {
   "codemirror_mode": {
    "name": "ipython",
    "version": 3
   },
   "file_extension": ".py",
   "mimetype": "text/x-python",
   "name": "python",
   "nbconvert_exporter": "python",
   "pygments_lexer": "ipython3",
   "version": "3.9.13"
  }
 },
 "nbformat": 4,
 "nbformat_minor": 5
}
